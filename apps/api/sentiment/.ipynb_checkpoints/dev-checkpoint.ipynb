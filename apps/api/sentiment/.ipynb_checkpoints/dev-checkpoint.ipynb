{
 "cells": [
  {
   "cell_type": "code",
   "execution_count": 1,
   "id": "5a167d62",
   "metadata": {},
   "outputs": [
    {
     "name": "stdout",
     "output_type": "stream",
     "text": [
      "Connection to DB successfully\n"
     ]
    }
   ],
   "source": [
    "import pandas as pd\n",
    "import sqlite3\n",
    "from sklearn.model_selection import train_test_split\n",
    "from sklearn.feature_extraction.text import CountVectorizer\n",
    "from sklearn.naive_bayes import MultinomialNB\n",
    "from sklearn.metrics import confusion_matrix, classification_report\n",
    "from sklearn.linear_model import LogisticRegression\n",
    "import matplotlib.pyplot as plt\n",
    "import seaborn as sns\n",
    "\n",
    "def DB_Connection(db_name):\n",
    "    ''' Returns a Database connection'''\n",
    "    conn = sqlite3.connect(db_name)\n",
    "    print(\"Connection to DB successfully\")\n",
    "    return conn\n",
    "# Connect to database \n",
    "db_conn = DB_Connection('../../db.sqlite3')\n",
    "cursor = db_conn.cursor()\n",
    "\n",
    "for row in cursor.execute(\"SELECT name FROM sqlite_master WHERE type='table';\"):\n",
    "    print(row)\n"
   ]
  },
  {
   "cell_type": "code",
   "execution_count": 7,
   "id": "61c64a67",
   "metadata": {},
   "outputs": [
    {
     "data": {
      "text/html": [
       "<div>\n",
       "<style scoped>\n",
       "    .dataframe tbody tr th:only-of-type {\n",
       "        vertical-align: middle;\n",
       "    }\n",
       "\n",
       "    .dataframe tbody tr th {\n",
       "        vertical-align: top;\n",
       "    }\n",
       "\n",
       "    .dataframe thead th {\n",
       "        text-align: right;\n",
       "    }\n",
       "</style>\n",
       "<table border=\"1\" class=\"dataframe\">\n",
       "  <thead>\n",
       "    <tr style=\"text-align: right;\">\n",
       "      <th></th>\n",
       "      <th>TweetID</th>\n",
       "      <th>Entity</th>\n",
       "      <th>Sentiment</th>\n",
       "      <th>TweetContent</th>\n",
       "    </tr>\n",
       "  </thead>\n",
       "  <tbody>\n",
       "    <tr>\n",
       "      <th>0</th>\n",
       "      <td>2401</td>\n",
       "      <td>Borderlands</td>\n",
       "      <td>Positive</td>\n",
       "      <td>im getting on borderlands and i will murder yo...</td>\n",
       "    </tr>\n",
       "    <tr>\n",
       "      <th>1</th>\n",
       "      <td>2401</td>\n",
       "      <td>Borderlands</td>\n",
       "      <td>Positive</td>\n",
       "      <td>I am coming to the borders and I will kill you...</td>\n",
       "    </tr>\n",
       "    <tr>\n",
       "      <th>2</th>\n",
       "      <td>2401</td>\n",
       "      <td>Borderlands</td>\n",
       "      <td>Positive</td>\n",
       "      <td>im getting on borderlands and i will kill you ...</td>\n",
       "    </tr>\n",
       "    <tr>\n",
       "      <th>3</th>\n",
       "      <td>2401</td>\n",
       "      <td>Borderlands</td>\n",
       "      <td>Positive</td>\n",
       "      <td>im coming on borderlands and i will murder you...</td>\n",
       "    </tr>\n",
       "    <tr>\n",
       "      <th>4</th>\n",
       "      <td>2401</td>\n",
       "      <td>Borderlands</td>\n",
       "      <td>Positive</td>\n",
       "      <td>im getting on borderlands 2 and i will murder ...</td>\n",
       "    </tr>\n",
       "  </tbody>\n",
       "</table>\n",
       "</div>"
      ],
      "text/plain": [
       "   TweetID       Entity Sentiment  \\\n",
       "0     2401  Borderlands  Positive   \n",
       "1     2401  Borderlands  Positive   \n",
       "2     2401  Borderlands  Positive   \n",
       "3     2401  Borderlands  Positive   \n",
       "4     2401  Borderlands  Positive   \n",
       "\n",
       "                                        TweetContent  \n",
       "0  im getting on borderlands and i will murder yo...  \n",
       "1  I am coming to the borders and I will kill you...  \n",
       "2  im getting on borderlands and i will kill you ...  \n",
       "3  im coming on borderlands and i will murder you...  \n",
       "4  im getting on borderlands 2 and i will murder ...  "
      ]
     },
     "execution_count": 7,
     "metadata": {},
     "output_type": "execute_result"
    }
   ],
   "source": [
    "# print the train data\n",
    "train_df = pd.read_sql_query(\"SELECT * FROM twitter_training\", db_conn)\n",
    "train_df.head()\n"
   ]
  },
  {
   "cell_type": "code",
   "execution_count": 8,
   "id": "a8b989c5",
   "metadata": {},
   "outputs": [
    {
     "data": {
      "text/html": [
       "<div>\n",
       "<style scoped>\n",
       "    .dataframe tbody tr th:only-of-type {\n",
       "        vertical-align: middle;\n",
       "    }\n",
       "\n",
       "    .dataframe tbody tr th {\n",
       "        vertical-align: top;\n",
       "    }\n",
       "\n",
       "    .dataframe thead th {\n",
       "        text-align: right;\n",
       "    }\n",
       "</style>\n",
       "<table border=\"1\" class=\"dataframe\">\n",
       "  <thead>\n",
       "    <tr style=\"text-align: right;\">\n",
       "      <th></th>\n",
       "      <th>TweetID</th>\n",
       "      <th>Entity</th>\n",
       "      <th>Sentiment</th>\n",
       "      <th>TweetContent</th>\n",
       "    </tr>\n",
       "  </thead>\n",
       "  <tbody>\n",
       "    <tr>\n",
       "      <th>0</th>\n",
       "      <td>3364</td>\n",
       "      <td>Facebook</td>\n",
       "      <td>Irrelevant</td>\n",
       "      <td>I mentioned on Facebook that I was struggling ...</td>\n",
       "    </tr>\n",
       "    <tr>\n",
       "      <th>1</th>\n",
       "      <td>352</td>\n",
       "      <td>Amazon</td>\n",
       "      <td>Neutral</td>\n",
       "      <td>BBC News - Amazon boss Jeff Bezos rejects clai...</td>\n",
       "    </tr>\n",
       "    <tr>\n",
       "      <th>2</th>\n",
       "      <td>8312</td>\n",
       "      <td>Microsoft</td>\n",
       "      <td>Negative</td>\n",
       "      <td>@Microsoft Why do I pay for WORD when it funct...</td>\n",
       "    </tr>\n",
       "    <tr>\n",
       "      <th>3</th>\n",
       "      <td>4371</td>\n",
       "      <td>CS-GO</td>\n",
       "      <td>Negative</td>\n",
       "      <td>CSGO matchmaking is so full of closet hacking,...</td>\n",
       "    </tr>\n",
       "    <tr>\n",
       "      <th>4</th>\n",
       "      <td>4433</td>\n",
       "      <td>Google</td>\n",
       "      <td>Neutral</td>\n",
       "      <td>Now the President is slapping Americans in the...</td>\n",
       "    </tr>\n",
       "  </tbody>\n",
       "</table>\n",
       "</div>"
      ],
      "text/plain": [
       "   TweetID     Entity   Sentiment  \\\n",
       "0     3364   Facebook  Irrelevant   \n",
       "1      352     Amazon     Neutral   \n",
       "2     8312  Microsoft    Negative   \n",
       "3     4371      CS-GO    Negative   \n",
       "4     4433     Google     Neutral   \n",
       "\n",
       "                                        TweetContent  \n",
       "0  I mentioned on Facebook that I was struggling ...  \n",
       "1  BBC News - Amazon boss Jeff Bezos rejects clai...  \n",
       "2  @Microsoft Why do I pay for WORD when it funct...  \n",
       "3  CSGO matchmaking is so full of closet hacking,...  \n",
       "4  Now the President is slapping Americans in the...  "
      ]
     },
     "execution_count": 8,
     "metadata": {},
     "output_type": "execute_result"
    }
   ],
   "source": [
    "#print the test data\n",
    "val_df = pd.read_sql_query(\"SELECT * FROM twitter_validation\", db_conn)\n",
    "val_df.head()"
   ]
  },
  {
   "cell_type": "code",
   "execution_count": 10,
   "id": "41386576",
   "metadata": {},
   "outputs": [
    {
     "name": "stderr",
     "output_type": "stream",
     "text": [
      "[nltk_data] Downloading package stopwords to /home/ansis/nltk_data...\n",
      "[nltk_data]   Unzipping corpora/stopwords.zip.\n",
      "[nltk_data] Downloading package wordnet to /home/ansis/nltk_data...\n"
     ]
    }
   ],
   "source": [
    "import re\n",
    "from nltk.corpus import stopwords\n",
    "from nltk.stem import WordNetLemmatizer\n",
    "import nltk\n",
    "nltk.download('stopwords')\n",
    "nltk.download('wordnet')\n",
    "\n",
    "def preprocess_text(text):\n",
    "     # Check if the text is not a string (it could be NaN or a number)\n",
    "    if not isinstance(text, str):\n",
    "        return \"\"\n",
    "    \n",
    "    # Convert text to lowercase\n",
    "    text = text.lower()\n",
    "    # Remove punctuation\n",
    "    text = re.sub(r'[^\\w\\s]', '', text)\n",
    "    # Remove numbers\n",
    "    text = re.sub(r'\\d+', '', text)\n",
    "    # Remove stopwords\n",
    "    stop_words = set(stopwords.words('english'))\n",
    "    text = ' '.join(word for word in text.split() if word not in stop_words)\n",
    "    # Lemmatization\n",
    "    lemmatizer = WordNetLemmatizer()\n",
    "    text = ' '.join(lemmatizer.lemmatize(word) for word in text.split())\n",
    "    \n",
    "    return text\n",
    "\n",
    "# Apply preprocessing to the tweet content\n",
    "train_df['ProcessedTweet'] = train_df['TweetContent'].apply(preprocess_text)\n",
    "val_df['ProcessedTweet'] = val_df['TweetContent'].apply(preprocess_text)\n",
    "\n",
    "# Vectorizing the text\n",
    "vectorizer = CountVectorizer()\n",
    "X_train = vectorizer.fit_transform(train_df['ProcessedTweet'])\n",
    "X_val = vectorizer.transform(val_df['ProcessedTweet'])\n",
    "\n",
    "y_train = train_df['Sentiment']\n",
    "y_val = val_df['Sentiment']\n"
   ]
  },
  {
   "cell_type": "code",
   "execution_count": 11,
   "id": "49a2d09c",
   "metadata": {},
   "outputs": [],
   "source": [
    "nb_model = MultinomialNB()\n",
    "nb_model.fit(X_train, y_train)\n",
    "\n",
    "# Predict on validation set\n",
    "nb_predictions = nb_model.predict(X_val)\n"
   ]
  },
  {
   "cell_type": "code",
   "execution_count": 12,
   "id": "8cb52775",
   "metadata": {},
   "outputs": [],
   "source": [
    "log_reg_model = LogisticRegression(max_iter=1000)\n",
    "log_reg_model.fit(X_train, y_train)\n",
    "\n",
    "# Predict on validation set\n",
    "lr_predictions = log_reg_model.predict(X_val)\n"
   ]
  },
  {
   "cell_type": "code",
   "execution_count": 13,
   "id": "2fb6a24d",
   "metadata": {},
   "outputs": [
    {
     "name": "stdout",
     "output_type": "stream",
     "text": [
      "Naive Bayes Classification Report:\n",
      "\n",
      "              precision    recall  f1-score   support\n",
      "\n",
      "  Irrelevant       0.90      0.76      0.82       172\n",
      "    Negative       0.76      0.89      0.82       266\n",
      "     Neutral       0.92      0.72      0.81       285\n",
      "    Positive       0.78      0.90      0.84       277\n",
      "\n",
      "    accuracy                           0.82      1000\n",
      "   macro avg       0.84      0.82      0.82      1000\n",
      "weighted avg       0.83      0.82      0.82      1000\n",
      "\n"
     ]
    },
    {
     "data": {
      "image/png": "[encoded data removed]",
      "text/plain": [
       "<Figure size 640x480 with 2 Axes>"
      ]
     },
     "metadata": {},
     "output_type": "display_data"
    },
    {
     "name": "stdout",
     "output_type": "stream",
     "text": [
      "\n",
      "Logistic Regression Classification Report:\n",
      "\n",
      "              precision    recall  f1-score   support\n",
      "\n",
      "  Irrelevant       0.94      0.92      0.93       172\n",
      "    Negative       0.94      0.95      0.95       266\n",
      "     Neutral       0.95      0.93      0.94       285\n",
      "    Positive       0.92      0.94      0.93       277\n",
      "\n",
      "    accuracy                           0.94      1000\n",
      "   macro avg       0.94      0.94      0.94      1000\n",
      "weighted avg       0.94      0.94      0.94      1000\n",
      "\n"
     ]
    },
    {
     "data": {
      "image/png": "[encoded data removed]",
      "text/plain": [
       "<Figure size 640x480 with 2 Axes>"
      ]
     },
     "metadata": {},
     "output_type": "display_data"
    }
   ],
   "source": [
    "# Naive Bayes Evaluation\n",
    "print(\"Naive Bayes Classification Report:\\n\")\n",
    "print(classification_report(y_val, nb_predictions))\n",
    "\n",
    "# Confusion Matrix for Naive Bayes\n",
    "cm_nb = confusion_matrix(y_val, nb_predictions)\n",
    "sns.heatmap(cm_nb, annot=True, fmt='d')\n",
    "plt.title('Naive Bayes Confusion Matrix')\n",
    "plt.ylabel('Actual Label')\n",
    "plt.xlabel('Predicted Label')\n",
    "plt.show()\n",
    "\n",
    "# Logistic Regression Evaluation\n",
    "print(\"\\nLogistic Regression Classification Report:\\n\")\n",
    "print(classification_report(y_val, lr_predictions))\n",
    "\n",
    "# Confusion Matrix for Logistic Regression\n",
    "cm_lr = confusion_matrix(y_val, lr_predictions)\n",
    "sns.heatmap(cm_lr, annot=True, fmt='d')\n",
    "plt.title('Logistic Regression Confusion Matrix')\n",
    "plt.ylabel('Actual Label')\n",
    "plt.xlabel('Predicted Label')\n",
    "plt.show()\n"
   ]
  },
  {
   "cell_type": "code",
   "execution_count": 17,
   "id": "5cd3a0a1",
   "metadata": {},
   "outputs": [
    {
     "name": "stdout",
     "output_type": "stream",
     "text": [
      "Naive Bayes Sentiment Prediction: Negative\n",
      "Logistic Regression Sentiment Prediction: Negative\n"
     ]
    }
   ],
   "source": [
    "# Test a sample tweet\n",
    "sample_tweet = \"I love this City\"\n",
    "\n",
    "# Preprocess the tweet\n",
    "processed_tweet = preprocess_text(sample_tweet)\n",
    "\n",
    "# Vectorize the tweet\n",
    "vectorized_tweet = vectorizer.transform([processed_tweet])\n",
    "\n",
    "# Predict sentiment using Naive Bayes\n",
    "nb_sentiment = nb_model.predict(vectorized_tweet)\n",
    "print(f\"Naive Bayes Sentiment Prediction: {nb_sentiment[0]}\")\n",
    "\n",
    "# Predict sentiment using Logistic Regression\n",
    "lr_sentiment = log_reg_model.predict(vectorized_tweet)\n",
    "print(f\"Logistic Regression Sentiment Prediction: {lr_sentiment[0]}\")\n"
   ]
  },
  {
   "cell_type": "code",
   "execution_count": 19,
   "id": "1ad7961b",
   "metadata": {},
   "outputs": [
    {
     "name": "stdout",
     "output_type": "stream",
     "text": [
      "[[-3.73273159e-02 -3.38028162e-02  2.23505189e-01 ... -2.81991711e-02\n",
      "  -2.11124392e-01 -4.43451436e-04]\n",
      " [-4.80119948e-02 -4.47912551e-02 -8.09962047e-03 ... -6.05840044e-01\n",
      "  -2.85680036e-01 -1.08722912e-02]\n",
      " [ 1.36901166e-01  1.25535995e-01 -7.22761433e-02 ...  6.56272913e-01\n",
      "   8.32534342e-01 -3.60617390e-02]\n",
      " [-5.15618554e-02 -4.69419233e-02 -1.43129425e-01 ... -2.22336981e-02\n",
      "  -3.35729914e-01  4.73774817e-02]]\n"
     ]
    }
   ],
   "source": [
    "\n",
    "import joblib\n",
    "models = {\n",
    "    'naive_bayes': nb_model,\n",
    "    'logistic_regression': log_reg_model,\n",
    "    'vectorizer': vectorizer\n",
    "}\n",
    "\n",
    "joblib.dump(models, 'trained_model')\n"
   ]
  },
  {
   "cell_type": "code",
   "execution_count": null,
   "id": "4dc9c662",
   "metadata": {},
   "outputs": [],
   "source": []
  }
 ],
 "metadata": {
  "kernelspec": {
   "display_name": "Python 3 (ipykernel)",
   "language": "python",
   "name": "python3"
  },
  "language_info": {
   "codemirror_mode": {
    "name": "ipython",
    "version": 3
   },
   "file_extension": ".py",
   "mimetype": "text/x-python",
   "name": "python",
   "nbconvert_exporter": "python",
   "pygments_lexer": "ipython3",
   "version": "3.11.4"
  }
 },
 "nbformat": 4,
 "nbformat_minor": 5
}
